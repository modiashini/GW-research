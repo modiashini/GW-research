{
 "cells": [
  {
   "cell_type": "code",
   "execution_count": 1,
   "metadata": {},
   "outputs": [],
   "source": [
    "import matplotlib.pyplot as plt\n",
    "import numpy as np\n",
    "import healpy as hp\n",
    "import math\n",
    "import os\n",
    "from scipy.special import legendre"
   ]
  },
  {
   "cell_type": "code",
   "execution_count": 2,
   "metadata": {},
   "outputs": [],
   "source": [
    "radian = 180/math.pi\n",
    "lmax = 64\n",
    "random_map_number=100"
   ]
  },
  {
   "cell_type": "code",
   "execution_count": 3,
   "metadata": {},
   "outputs": [
    {
     "name": "stdout",
     "output_type": "stream",
     "text": [
      "Approximate resolution at NSIDE 256 is 0.23 deg\n"
     ]
    }
   ],
   "source": [
    "NSIDE = 256\n",
    "print(\n",
    "    \"Approximate resolution at NSIDE {} is {:.2} deg\".format(\n",
    "        NSIDE, hp.nside2resol(NSIDE, arcmin=True) / 60\n",
    "    )\n",
    ")"
   ]
  },
  {
   "cell_type": "code",
   "execution_count": 4,
   "metadata": {},
   "outputs": [],
   "source": [
    "NPIX = hp.nside2npix(NSIDE)\n",
    "#print(NPIX)"
   ]
  },
  {
   "cell_type": "code",
   "execution_count": 5,
   "metadata": {
    "scrolled": true
   },
   "outputs": [
    {
     "data": {
      "image/png": "[encoded data removed]",
      "text/plain": [
       "<Figure size 612x388.8 with 2 Axes>"
      ]
     },
     "metadata": {},
     "output_type": "display_data"
    }
   ],
   "source": [
    "m = np.zeros(NPIX)\n",
    "hp.mollview(\n",
    "    m, \n",
    "    title=\"Image RING 1\",\n",
    "    norm=\"hist\",\n",
    "    min=0,\n",
    "    max=0.1)\n"
   ]
  },
  {
   "cell_type": "code",
   "execution_count": 6,
   "metadata": {
    "scrolled": false
   },
   "outputs": [
    {
     "name": "stdout",
     "output_type": "stream",
     "text": [
      "[-0.10624793  0.95541886  0.27547446]\n"
     ]
    }
   ],
   "source": [
    "vec = hp.ang2vec(np.random.random()*np.pi,np.random.random()*2.*np.pi)\n",
    "print(vec)"
   ]
  },
  {
   "cell_type": "code",
   "execution_count": 8,
   "metadata": {},
   "outputs": [],
   "source": [
    "m = np.zeros(NPIX)\n",
    "for i in range(10):\n",
    "    vec = hp.ang2vec(np.random.random()*np.pi,np.random.random()*2.*np.pi)\n",
    "    ipix_disc = hp.query_disc(nside=NSIDE, vec=vec, radius=np.radians(10))\n",
    "    m[ipix_disc] = 0.1"
   ]
  },
  {
   "cell_type": "code",
   "execution_count": 10,
   "metadata": {},
   "outputs": [
    {
     "data": {
      "image/png": "[encoded data removed]",
      "text/plain": [
       "<Figure size 612x388.8 with 2 Axes>"
      ]
     },
     "metadata": {},
     "output_type": "display_data"
    }
   ],
   "source": [
    "hp.mollview(\n",
    "    m,\n",
    "    title=\"Random Map\",\n",
    "    norm=\"hist\",\n",
    "    min=0,\n",
    "    max=0.1)"
   ]
  },
  {
   "cell_type": "code",
   "execution_count": 11,
   "metadata": {},
   "outputs": [],
   "source": [
    "def PLcos(l,theta):\n",
    "    PL=legendre(l)\n",
    "    return PL(np.cos(theta))"
   ]
  },
  {
   "cell_type": "code",
   "execution_count": 12,
   "metadata": {},
   "outputs": [],
   "source": [
    "def corr_function(map,lmax,theta):\n",
    "    alm = hp.map2alm(map, lmax = lmax)\n",
    "    cl = np.zeros(lmax+1,dtype='double')\n",
    "    al2 = np.zeros(lmax+1,dtype='cdouble')\n",
    "    l = 0\n",
    "    while l < lmax+1:\n",
    "        al2[l] = alm[l]*np.conj(alm[l]) \n",
    "        j = 0\n",
    "        k = 0\n",
    "        while j < l:\n",
    "            k += lmax-j\n",
    "            #print(l,l+k)\n",
    "            al2[l] = al2[l] + 2*alm[l+k]*np.conj(alm[l+k])\n",
    "            j += 1\n",
    "        if al2.imag.any(): print('Warning! al2 array is complex.')    \n",
    "        cl[l] = al2[l].real * PLcos(l,theta)    \n",
    "        l += 1\n",
    "    ctheta = np.sum(cl)/4/np.pi\n",
    "    return ctheta"
   ]
  },
  {
   "cell_type": "code",
   "execution_count": 14,
   "metadata": {},
   "outputs": [],
   "source": [
    "theta_values = np.linspace(0,np.pi,100)\n",
    "corr_function_theta = []\n",
    "for theta in theta_values:\n",
    "    corr_function_theta.append(corr_function(m,lmax,theta))"
   ]
  },
  {
   "cell_type": "code",
   "execution_count": 16,
   "metadata": {},
   "outputs": [],
   "source": [
    "corr_function_theta_background = np.zeros(len(theta_values))\n",
    "corr_function_theta_background_norm = np.zeros(len(theta_values))\n",
    "for random_index in range(0,random_map_number):\n",
    "    corr_function_theta_random = np.array([])\n",
    "    for theta in theta_values:\n",
    "        corr_function_theta_random = np.append(corr_function_theta_random,corr_function(m,lmax,theta))\n",
    "    corr_function_theta_background += corr_function_theta_random \n",
    "corr_function_theta_background_norm = np.divide(corr_function_theta_background,random_map_number)   "
   ]
  },
  {
   "cell_type": "code",
   "execution_count": 17,
   "metadata": {},
   "outputs": [],
   "source": [
    "corr_function_theta_background_stdev_square = np.zeros(len(theta_values))\n",
    "corr_function_theta_background_norm_stdev_square = np.zeros(len(theta_values))\n",
    "corr_function_theta_background_norm_stdev = np.zeros(len(theta_values))\n",
    "for random_index in range(0,random_map_number):\n",
    "    corr_function_theta_random = np.array([])\n",
    "    for theta in theta_values:\n",
    "        corr_function_theta_random = np.append(corr_function_theta_random,corr_function(m,lmax,theta))\n",
    "    corr_function_theta_background_stdev_square += np.square(corr_function_theta_random-corr_function_theta_background_norm) \n",
    "corr_function_theta_background_norm_stdev_square = np.divide(corr_function_theta_background_stdev_square,random_map_number-1)\n",
    "corr_function_theta_background_norm_stdev = np.sqrt(corr_function_theta_background_norm_stdev_square)"
   ]
  },
  {
   "cell_type": "code",
   "execution_count": 18,
   "metadata": {},
   "outputs": [
    {
     "data": {
      "image/png": "[encoded data removed]",
      "text/plain": [
       "<Figure size 432x288 with 1 Axes>"
      ]
     },
     "metadata": {},
     "output_type": "display_data"
    }
   ],
   "source": [
    "fig, ax = plt.subplots()\n",
    "plt.yscale('log')\n",
    "k = 1\n",
    "plt.plot(theta_values*180/np.pi,corr_function_theta,color='r');\n",
    "while k < 6:\n",
    "    plt.fill_between(theta_values*180/np.pi,corr_function_theta_background_norm+k*corr_function_theta_background_norm_stdev,corr_function_theta_background_norm-k*corr_function_theta_background_norm_stdev,color='k',alpha=0.3-(k-1)*0.05)\n",
    "    k+=1"
   ]
  },
  {
   "cell_type": "code",
   "execution_count": 21,
   "metadata": {},
   "outputs": [
    {
     "data": {
      "image/png": "[encoded data removed]",
      "text/plain": [
       "<Figure size 432x288 with 1 Axes>"
      ]
     },
     "metadata": {},
     "output_type": "display_data"
    }
   ],
   "source": [
    "fig, ax = plt.subplots()\n",
    "ax.axhline(y=1, color='k')\n",
    "ax.plot(theta_values*180/np.pi,corr_function_theta/corr_function_theta_background_norm,color='r');\n",
    "k = 1\n",
    "while k < 6:\n",
    "    ax.fill_between(theta_values*180/np.pi,(corr_function_theta_background_norm+k*corr_function_theta_background_norm_stdev)/corr_function_theta_background_norm,(corr_function_theta_background_norm-k*corr_function_theta_background_norm_stdev)/corr_function_theta_background_norm,color='k',alpha=0.3-(k-1)*0.05);\n",
    "    k+=1"
   ]
  },
  {
   "cell_type": "code",
   "execution_count": null,
   "metadata": {},
   "outputs": [],
   "source": []
  }
 ],
 "metadata": {
  "kernelspec": {
   "display_name": "Python 3",
   "language": "python",
   "name": "python3"
  },
  "language_info": {
   "codemirror_mode": {
    "name": "ipython",
    "version": 3
   },
   "file_extension": ".py",
   "mimetype": "text/x-python",
   "name": "python",
   "nbconvert_exporter": "python",
   "pygments_lexer": "ipython3",
   "version": "3.6.7"
  }
 },
 "nbformat": 4,
 "nbformat_minor": 2
}
