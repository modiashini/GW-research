{
 "cells": [
  {
   "cell_type": "code",
   "execution_count": 1,
   "metadata": {},
   "outputs": [],
   "source": [
    "import matplotlib.pyplot as plt\n",
    "import numpy as np\n",
    "import healpy as hp\n",
    "import math\n",
    "import os\n",
    "from scipy.special import legendre"
   ]
  },
  {
   "cell_type": "code",
   "execution_count": 2,
   "metadata": {},
   "outputs": [],
   "source": [
    "radian = 180/math.pi\n",
    "lmax = 64\n",
    "random_map_number = 100"
   ]
  },
  {
   "cell_type": "code",
   "execution_count": 3,
   "metadata": {},
   "outputs": [
    {
     "name": "stdout",
     "output_type": "stream",
     "text": [
      "Approximate resolution at NSIDE 256 is 0.23 deg\n"
     ]
    }
   ],
   "source": [
    "NSIDE = 256\n",
    "print(\n",
    "    \"Approximate resolution at NSIDE {} is {:.2} deg\".format(\n",
    "        NSIDE, hp.nside2resol(NSIDE, arcmin=True) / 60\n",
    "    )\n",
    ")"
   ]
  },
  {
   "cell_type": "code",
   "execution_count": 4,
   "metadata": {},
   "outputs": [],
   "source": [
    "NPIX = hp.nside2npix(NSIDE)\n",
    "#print(NPIX)"
   ]
  },
  {
   "cell_type": "code",
   "execution_count": 5,
   "metadata": {},
   "outputs": [
    {
     "data": {
      "image/png": "[encoded data removed]",
      "text/plain": [
       "<Figure size 612x388.8 with 2 Axes>"
      ]
     },
     "metadata": {
      "needs_background": "light"
     },
     "output_type": "display_data"
    }
   ],
   "source": [
    "m = np.zeros(NPIX)\n",
    "hp.mollview(\n",
    "    m,\n",
    "    title=\"Image RING 1\",\n",
    "    norm=\"hist\",\n",
    "    min=0,\n",
    "    max=0.1)"
   ]
  },
  {
   "cell_type": "code",
   "execution_count": 6,
   "metadata": {
    "scrolled": false
   },
   "outputs": [
    {
     "name": "stdout",
     "output_type": "stream",
     "text": [
      "[0.64536605 0.28393804 0.70914163]\n"
     ]
    }
   ],
   "source": [
    "vec = hp.ang2vec(np.random.random()*np.pi,np.random.random()*2.*np.pi)\n",
    "print(vec)"
   ]
  },
  {
   "cell_type": "code",
   "execution_count": 7,
   "metadata": {},
   "outputs": [],
   "source": [
    "ipix_disc = hp.query_disc(nside=NSIDE, vec=vec, radius=np.radians(10))"
   ]
  },
  {
   "cell_type": "code",
   "execution_count": 8,
   "metadata": {},
   "outputs": [
    {
     "data": {
      "image/png": "[encoded data removed]",
      "text/plain": [
       "<Figure size 612x388.8 with 2 Axes>"
      ]
     },
     "metadata": {
      "needs_background": "light"
     },
     "output_type": "display_data"
    }
   ],
   "source": [
    "m = np.zeros(NPIX)\n",
    "m[ipix_disc] = 0.1\n",
    "hp.mollview(\n",
    "    m,\n",
    "    title=\"Mollview image RING\",\n",
    "    norm=\"hist\",\n",
    "    min=0,\n",
    "    max=0.1)"
   ]
  },
  {
   "cell_type": "code",
   "execution_count": 9,
   "metadata": {},
   "outputs": [],
   "source": [
    "def rotate_map(hmap, rot_theta, rot_phi):\n",
    "    \"\"\"\n",
    "    Take hmap (a healpix map array) and return another healpix map array \n",
    "    which is ordered such that it has been rotated in (theta, phi) by the \n",
    "    amounts given.\n",
    "    \"\"\"\n",
    "    nside = hp.npix2nside(len(hmap))\n",
    "    # Get theta, phi for non-rotated map\n",
    "    t,p = hp.pix2ang(nside, np.arange(hp.nside2npix(nside))) #theta, phi\n",
    "    # Define a rotator\n",
    "    r = hp.Rotator(deg=False, rot=[rot_theta,rot_phi])\n",
    "    # Get theta, phi under rotated co-ordinates\n",
    "    trot, prot = r(t,p)\n",
    "    # Interpolate map onto these co-ordinates\n",
    "    rot_map = hp.get_interp_val(hmap, trot, prot)\n",
    "    return rot_map"
   ]
  },
  {
   "cell_type": "code",
   "execution_count": null,
   "metadata": {},
   "outputs": [],
   "source": []
  }
 ],
 "metadata": {
  "kernelspec": {
   "display_name": "Python 3",
   "language": "python",
   "name": "python3"
  },
  "language_info": {
   "codemirror_mode": {
    "name": "ipython",
    "version": 3
   },
   "file_extension": ".py",
   "mimetype": "text/x-python",
   "name": "python",
   "nbconvert_exporter": "python",
   "pygments_lexer": "ipython3",
   "version": "3.7.3"
  }
 },
 "nbformat": 4,
 "nbformat_minor": 2
}
